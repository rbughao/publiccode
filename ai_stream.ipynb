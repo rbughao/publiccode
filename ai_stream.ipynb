{
 "cells": [
  {
   "cell_type": "code",
   "execution_count": 1,
   "metadata": {},
   "outputs": [
    {
     "name": "stdout",
     "output_type": "stream",
     "text": [
      "[nltk_data] Downloading package nps_chat to\n",
      "[nltk_data]     C:\\Users\\User\\AppData\\Roaming\\nltk_data...\n",
      "[nltk_data]   Package nps_chat is already up-to-date!\n",
      "0.668\n",
      "whQuestion\n",
      "Clarify\n"
     ]
    }
   ],
   "source": [
    "import nltk\n",
    "nltk.download('nps_chat')\n",
    "posts = nltk.corpus.nps_chat.xml_posts()[:10000]\n",
    "\n",
    "#===============\n",
    "#line1=\"Dear Sir or Madame,  we already booked our room from Juli 29th to July 31st.  Hotel confirmation #138303907222  Two questions:  - Is there a (free) shuttle service from and to the airport. Or what is the best way to travel? - is breakfast included?? Best regards,  M. Zierer\"\n",
    "line1=\"where is it\"\n",
    "line2 = \"Front desk told us that we will have a military discount when we arrived in the arrival they would not give it to us, even though we showed a valid military ID card. They carged us 384$, and when we booked they said the rate would be 224$ .... We won't be coming back!!! Bad business!!!\"\n",
    "#===============\n",
    "\n",
    "def dialogue_act_features(post):\n",
    "    features = {}\n",
    "    for word in nltk.word_tokenize(post):\n",
    "        features['contains({})'.format(word.lower())] = True\n",
    "    return features\n",
    "\n",
    "featuresets = [(dialogue_act_features(post.text), post.get('class')) for post in posts]\n",
    "size = int(len(featuresets) * 0.1)\n",
    "train_set, test_set = featuresets[size:], featuresets[:size]\n",
    "classifier = nltk.NaiveBayesClassifier.train(train_set)\n",
    "nltk.classify.accuracy(classifier, test_set)\n",
    "\n",
    "#===============\n",
    "print(nltk.classify.accuracy(classifier, test_set))\n",
    "print(classifier.classify(dialogue_act_features(line1)))\n",
    "print(classifier.classify(dialogue_act_features(line2)))\n",
    "#===============\n",
    "\n",
    "#def analyze_comments(comments):\n",
    "#\treturn classifier.classify(dialogue_act_features(comments))"
   ]
  },
  {
   "cell_type": "code",
   "execution_count": null,
   "metadata": {},
   "outputs": [],
   "source": []
  }
 ],
 "metadata": {
  "kernelspec": {
   "display_name": "Python 3",
   "language": "python",
   "name": "python3"
  },
  "language_info": {
   "codemirror_mode": {
    "name": "ipython",
    "version": 3
   },
   "file_extension": ".py",
   "mimetype": "text/x-python",
   "name": "python",
   "nbconvert_exporter": "python",
   "pygments_lexer": "ipython3",
   "version": "3.5.1"
  }
 },
 "nbformat": 4,
 "nbformat_minor": 2
}
