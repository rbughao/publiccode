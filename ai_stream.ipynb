{
 "cells": [
  {
   "cell_type": "code",
   "execution_count": 1,
   "metadata": {},
   "outputs": [
    {
     "name": "stdout",
     "output_type": "stream",
     "text": [
      "[nltk_data] Downloading package nps_chat to\n",
      "[nltk_data]     C:\\Users\\User\\AppData\\Roaming\\nltk_data...\n",
      "[nltk_data]   Package nps_chat is already up-to-date!\n",
      "0.668\n",
      "whQuestion\n",
      "Clarify\n"
     ]
    }
   ],
   "source": [
    "import nltk\n",
    "nltk.download('nps_chat')\n",
    "posts = nltk.corpus.nps_chat.xml_posts()[:10000]\n",
    "\n",
    "#===============\n",
    "#line1=\"Dear Sir or Madame,  we already booked our room from Juli 29th to July 31st.  Hotel confirmation #138303907222  Two questions:  - Is there a (free) shuttle service from and to the airport. Or what is the best way to travel? - is breakfast included?? Best regards,  M. Zierer\"\n",
    "line1=\"where is it\"\n",
    "line2 = \"Front desk told us that we will have a military discount when we arrived in the arrival they would not give it to us, even though we showed a valid military ID card. They carged us 384$, and when we booked they said the rate would be 224$ .... We won't be coming back!!! Bad business!!!\"\n",
    "#===============\n",
    "\n",
    "def dialogue_act_features(post):\n",
    "    features = {}\n",
    "    for word in nltk.word_tokenize(post):\n",
    "        features['contains({})'.format(word.lower())] = True\n",
    "    return features\n",
    "\n",
    "featuresets = [(dialogue_act_features(post.text), post.get('class')) for post in posts]\n",
    "size = int(len(featuresets) * 0.1)\n",
    "train_set, test_set = featuresets[size:], featuresets[:size]\n",
    "classifier = nltk.NaiveBayesClassifier.train(train_set)\n",
    "nltk.classify.accuracy(classifier, test_set)\n",
    "\n",
    "#===============\n",
    "print(nltk.classify.accuracy(classifier, test_set))\n",
    "print(classifier.classify(dialogue_act_features(line1)))\n",
    "print(classifier.classify(dialogue_act_features(line2)))\n",
    "#===============\n",
    "\n",
    "#def analyze_comments(comments):\n",
    "#\treturn classifier.classify(dialogue_act_features(comments))"
   ]
  },
  {
   "cell_type": "code",
   "execution_count": 12,
   "metadata": {},
   "outputs": [
    {
     "name": "stdout",
     "output_type": "stream",
     "text": [
      " I received a message that you did not have my CC on reservation SWYZS8MUE.  I did include it but since your system lost it, need to know the most secure way to get it to you without calling from the United States? My contact # is +1 310 795 9319 if you can call me that way.  I am on the West Coast of the United States.\n",
      "positive\n",
      "negative\n"
     ]
    }
   ],
   "source": [
    "def analyze_sentiment(input):\n",
    "\timport nltk\n",
    "\timport pandas as pd\n",
    "\tfrom nltk.sentiment.vader import SentimentIntensityAnalyzer\n",
    "\tfrom nltk.sentiment.util import extract_unigram_feats, mark_negation\n",
    "\n",
    "\tsid = SentimentIntensityAnalyzer()\n",
    "\toutput_sentiment=\"\"\n",
    "\tcheck_false_positive=mark_negation(input.split())\n",
    "\tss = sid.polarity_scores(input)\t\n",
    "\tif ss[\"compound\"] == 0.0:\n",
    "\t\toutput_sentiment=\"neutral\"\n",
    "\telif ss[\"compound\"] > 0.0:\t\t\n",
    "\t\toutput_sentiment=\"positive\"\n",
    "\t\tif \"_NEG\" in str(check_false_positive):\t\t\t\n",
    "\t\t\toutput_sentiment=\"negative\"\n",
    "\telse:\t\t\n",
    "\t\toutput_sentiment=\"negative\"\n",
    "\n",
    "\treturn output_sentiment\n",
    "\n",
    "def tokenize_analyze(input):\n",
    "\tfrom nltk.tokenize import sent_tokenize,word_tokenize, WordPunctTokenizer\n",
    "\t\n",
    "\tdivide_input=sent_tokenize(input)\n",
    "\tlist_length = len(divide_input)\n",
    "\tpositive_ctr=0\n",
    "\tnegative_ctr=0\n",
    "\tneutral_ctr=0\n",
    "\n",
    "\tfor ctr in range(list_length):\n",
    "\t\tif analyze_sentiment(divide_input[ctr])==\"positive\":\n",
    "\t\t\tpositive_ctr=positive_ctr+1\n",
    "\t\telif  analyze_sentiment(divide_input[ctr])==\"negative\":\t\t\n",
    "\t\t\tnegative_ctr=negative_ctr+1\t\t\n",
    "\t\telse:\n",
    "\t\t\tneutral_ctr=neutral_ctr\n",
    "\n",
    "\tif positive_ctr > negative_ctr:\n",
    "\t\tvar_message='positive'\n",
    "\t\tif negative_ctr >= 1:\n",
    "\t\t\tvar_message='negative'\n",
    "\telif positive_ctr < negative_ctr:\n",
    "\t\tvar_message='negative'\n",
    "\telse:\n",
    "\t\tvar_message='neutral'\n",
    "\n",
    "\treturn(var_message)\n",
    "\n",
    "Sentence = ' I received a message that you did not have my CC on reservation SWYZS8MUE.  I did include it but since your system lost it, need to know the most secure way to get it to you without calling from the United States? My contact # is +1 310 795 9319 if you can call me that way.  I am on the West Coast of the United States.'\n",
    "Sentence = Sentence.replace('dears','').replace('dear','').replace('hi','').replace('hello','')\n",
    "\n",
    "print(Sentence)\n",
    "print (tokenize_analyze(Sentence))\n",
    "print (analyze_sentiment(Sentence))\n"
   ]
  },
  {
   "cell_type": "code",
   "execution_count": null,
   "metadata": {},
   "outputs": [],
   "source": []
  }
 ],
 "metadata": {
  "kernelspec": {
   "display_name": "Python 3",
   "language": "python",
   "name": "python3"
  },
  "language_info": {
   "codemirror_mode": {
    "name": "ipython",
    "version": 3
   },
   "file_extension": ".py",
   "mimetype": "text/x-python",
   "name": "python",
   "nbconvert_exporter": "python",
   "pygments_lexer": "ipython3",
   "version": "3.6.5"
  }
 },
 "nbformat": 4,
 "nbformat_minor": 2
}
